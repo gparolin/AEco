{
 "cells": [
  {
   "cell_type": "markdown",
   "source": [
    "# &AElig;co\n",
    "***Calc module***\n",
    "<br/><br/>"
   ],
   "metadata": {
    "tags": [
     "text"
    ]
   }
  },
  {
   "cell_type": "markdown",
   "source": [
    "✈️♻️\r\n",
    "\r\n",
    "This code is part of the Master's Thesis \"A Life Cycle Approach for Aircraft Ecodesign\", by Giácomo Parolin."
   ],
   "metadata": {
    "tags": [
     "text"
    ]
   }
  },
  {
   "cell_type": "markdown",
   "source": [
    "``Please enter the following information:``"
   ],
   "metadata": {}
  },
  {
   "cell_type": "code",
   "execution_count": 1,
   "source": [
    "import os\r\n",
    "os.chdir(\"C:/Users/giparoli/Documents/Projetos/AEco\")\r\n",
    "\r\n",
    "import numpy as np\r\n",
    "\r\n",
    "aircraft_type = 'pax'  #pax or cargo\r\n",
    "\r\n",
    "input_path = './Data/A320_inputs.xlsx'\r\n",
    "input_sheet = 'A320'\r\n",
    "# output_path = './Outputs/'+ input_sheet + '_outputs'\r\n",
    "database_path = './Data/database_A320.xlsx'\r\n",
    "\r\n",
    "iterations = 1000\r\n",
    "chunks = 1000  #'auto' or more than 500"
   ],
   "outputs": [],
   "metadata": {}
  },
  {
   "cell_type": "code",
   "execution_count": 2,
   "source": [
    "from Tools import *\r\n",
    "from Model import *"
   ],
   "outputs": [],
   "metadata": {}
  },
  {
   "cell_type": "code",
   "execution_count": 3,
   "source": [
    "UP_dataframe = read_unit_processes(database_path) #reads Unit Processes from database\r\n",
    "UP = unit_process_dataset(UP_dataframe) #creates Unit Processes xarray dataset"
   ],
   "outputs": [],
   "metadata": {}
  },
  {
   "cell_type": "code",
   "execution_count": 4,
   "source": [
    "MP_data, EP_data = read_CF(database_path) #reads MP and EP factors from database\r\n",
    "CF = CharactFactors(MP_data, EP_data, UP.Substances) #creates CharactFactors object\r\n",
    "CF.MP.dataset['NLT'].data = np.negative(CF.MP.dataset['NLT'].data) #adjusting the NLT category CFs.\r\n",
    "CF.MP.to_array();"
   ],
   "outputs": [],
   "metadata": {}
  },
  {
   "cell_type": "markdown",
   "source": [
    "# Analysis"
   ],
   "metadata": {}
  },
  {
   "cell_type": "code",
   "execution_count": 29,
   "source": [
    "inputs = read_inputs(input_path, input_sheet) #reads inputs\r\n",
    "p = ParameterSet(inputs, iterations, chunks) #creates ParameterSet object\r\n",
    "p = func_unit(aircraft_type, p) #creates funcional unit parameters (see Tools.py)"
   ],
   "outputs": [],
   "metadata": {}
  },
  {
   "cell_type": "code",
   "execution_count": 30,
   "source": [
    "baseline = 0.11047247\r\n",
    "weight2ff = 2 # x de redução em ff ocorre através da weight2ff*x redução em weight\r\n",
    "ff_reduct = np.linspace(0,0.10,9)\r\n",
    "weight_reduct = ff * weight2ff\r\n",
    "\r\n",
    "ff_ccd = p[\"ff_ccd\"]\r\n",
    "OEW = p[\"OEW\"]\r\n",
    "\r\n",
    "for i in range(99):\r\n",
    "    ff = ff_ccd * (1 - ff_reduct[i])\r\n",
    "    weight = OEW * (1-weight_reduct[i])\r\n",
    "    \r\n",
    "    # p[\"ff_ccd\"] = ff\r\n",
    "    p[\"OEW\"] = weight\r\n",
    "\r\n",
    "    inventory = LCI(name=input_sheet, type=aircraft_type, iterations=iterations, UP=UP, parameters=p) #creates empty LCI object\r\n",
    "    inventory.run(); #runs LCI model (see Model.py)\r\n",
    "    aeco = LCIA.build(inventory, CF) #creating LCIA object\r\n",
    "    \r\n",
    "    CC_result = aeco.mean(by=\"sum\").loc[\"CC\"].compute().data\r\n",
    "\r\n",
    "    if CC_result > baseline:\r\n",
    "        print(i)\r\n",
    "        continue\r\n",
    "    else:\r\n",
    "        print(\"Chegou no resultado!\")\r\n",
    "        CC_offset = CC_result\r\n",
    "        weight_offset = weight_reduct[i]\r\n",
    "        ff_offset = ff_reduct[i]\r\n",
    "        i_offset = i\r\n",
    "        break\r\n",
    "\r\n",
    "print(f\"o resultado de CC é {CC_offset}\")\r\n",
    "print(f\"o offset de peso necessário é {weight_offset*100}%, com offset de consumo de combustível de {ff_offset*100}%\")\r\n",
    "print(f\"isso foi obtido na {i}-ésima iteração\")"
   ],
   "outputs": [
    {
     "output_type": "stream",
     "name": "stdout",
     "text": [
      "0\n",
      "1\n",
      "2\n",
      "3\n",
      "4\n",
      "5\n",
      "Chegou no resultado!\n",
      "o resultado de CC é 0.11045429288752395\n",
      "o offset de peso necessário é 15.000000000000002%, com offset de consumo de combustível de 7.500000000000001%\n",
      "isso foi obtido na 6-ésima iteração\n"
     ]
    }
   ],
   "metadata": {}
  },
  {
   "cell_type": "code",
   "execution_count": 23,
   "source": [
    "ff_reduct[1]*100"
   ],
   "outputs": [
    {
     "output_type": "execute_result",
     "data": {
      "text/plain": [
       "0.05102040816326531"
      ]
     },
     "metadata": {},
     "execution_count": 23
    }
   ],
   "metadata": {}
  },
  {
   "cell_type": "code",
   "execution_count": 62,
   "source": [
    "(CC_result - baseline) / baseline * 100 #change from baseline in %"
   ],
   "outputs": [
    {
     "output_type": "execute_result",
     "data": {
      "text/plain": [
       "-8.141148510390261e-07"
      ]
     },
     "metadata": {},
     "execution_count": 62
    }
   ],
   "metadata": {}
  },
  {
   "cell_type": "markdown",
   "source": [
    "# Export Results"
   ],
   "metadata": {}
  },
  {
   "cell_type": "code",
   "execution_count": 53,
   "source": [
    "aeco.save(output_path, LCI=False) #Export MP, EP, LCI and CTV result to NetCDF file."
   ],
   "outputs": [],
   "metadata": {}
  },
  {
   "cell_type": "code",
   "execution_count": 22,
   "source": [
    "#aeco.to_excel(output_path)"
   ],
   "outputs": [],
   "metadata": {}
  }
 ],
 "metadata": {
  "kernelspec": {
   "name": "python3710jvsc74a57bd06b320cd33fc5b9df07979245ffc2cd564f60ae521795a30d4c05a9f9319d68e7",
   "display_name": "Python 3.7.10 64-bit"
  },
  "language_info": {
   "codemirror_mode": {
    "name": "ipython",
    "version": 3
   },
   "file_extension": ".py",
   "mimetype": "text/x-python",
   "name": "python",
   "nbconvert_exporter": "python",
   "pygments_lexer": "ipython3",
   "version": "3.7.10"
  },
  "toc-autonumbering": true,
  "toc-showcode": false,
  "toc-showmarkdowntxt": false,
  "toc-showtags": false,
  "widgets": {
   "application/vnd.jupyter.widget-state+json": {
    "state": {},
    "version_major": 2,
    "version_minor": 0
   }
  }
 },
 "nbformat": 4,
 "nbformat_minor": 4
}