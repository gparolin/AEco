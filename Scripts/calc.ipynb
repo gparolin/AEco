{
 "cells": [
  {
   "cell_type": "markdown",
   "source": [
    "# &AElig;co\n",
    "***Calc module***\n",
    "<br/><br/>"
   ],
   "metadata": {
    "tags": [
     "text"
    ]
   }
  },
  {
   "cell_type": "markdown",
   "source": [
    "✈️♻️\r\n",
    "\r\n",
    "This code is part of the Master's Thesis \"A Life Cycle Approach for Aircraft Ecodesign\", by Giácomo Parolin."
   ],
   "metadata": {
    "tags": [
     "text"
    ]
   }
  },
  {
   "cell_type": "markdown",
   "source": [
    "``Please enter the following information:``"
   ],
   "metadata": {}
  },
  {
   "cell_type": "code",
   "execution_count": 1,
   "source": [
    "import os\r\n",
    "os.chdir(\"C:/Users/giparoli/Documents/Projetos/AEco\")\r\n",
    "\r\n",
    "aircraft_type = 'pax'  #pax or cargo\r\n",
    "\r\n",
    "input_path = './Data/A320_inputs.xlsx'\r\n",
    "input_sheet = 'A320'\r\n",
    "output_path = './Outputs/'+ input_sheet + '_outputs'\r\n",
    "database_path = './Data/database_A320.xlsx'\r\n",
    "\r\n",
    "iterations = 1000\r\n",
    "chunks = 1000  #'auto' or more than 500"
   ],
   "outputs": [],
   "metadata": {}
  },
  {
   "cell_type": "code",
   "execution_count": 2,
   "source": [
    "from Tools import *\r\n",
    "from Model import *"
   ],
   "outputs": [],
   "metadata": {}
  },
  {
   "cell_type": "markdown",
   "source": [
    "# LCI"
   ],
   "metadata": {}
  },
  {
   "cell_type": "code",
   "execution_count": 3,
   "source": [
    "inputs = read_inputs(input_path, input_sheet) #reads inputs\r\n",
    "p = ParameterSet(inputs, iterations, chunks) #creates ParameterSet object\r\n",
    "p = func_unit(aircraft_type, p) #creates funcional unit parameters (see Tools.py)"
   ],
   "outputs": [],
   "metadata": {}
  },
  {
   "cell_type": "code",
   "execution_count": 4,
   "source": [
    "UP_dataframe = read_unit_processes(database_path) #reads Unit Processes from database\r\n",
    "UP = unit_process_dataset(UP_dataframe) #creates Unit Processes xarray dataset"
   ],
   "outputs": [],
   "metadata": {}
  },
  {
   "cell_type": "code",
   "execution_count": 5,
   "source": [
    "inventory = LCI(name=input_sheet, type=aircraft_type, iterations=iterations, UP=UP, parameters=p) #creates empty LCI object\r\n",
    "inventory.run(); #runs LCI model (see Model.py)"
   ],
   "outputs": [],
   "metadata": {}
  },
  {
   "cell_type": "markdown",
   "source": [
    "# LCIA"
   ],
   "metadata": {}
  },
  {
   "cell_type": "code",
   "execution_count": 9,
   "source": [
    "MP_data, EP_data = read_CF(database_path) #reads MP and EP factors from database\r\n",
    "CF = CharactFactors(MP_data, EP_data, UP.Substances) #creates CharactFactors object]\r\n",
    "CF.MP.dataset['NLT'].data = np.negative(CF.MP.dataset['NLT'].data) #adjusting the NLT category CFs.\r\n",
    "CF.MP.to_array();"
   ],
   "outputs": [],
   "metadata": {}
  },
  {
   "cell_type": "code",
   "execution_count": 10,
   "source": [
    "aeco = LCIA.build(inventory, CF) #creating LCIA object"
   ],
   "outputs": [],
   "metadata": {}
  },
  {
   "cell_type": "code",
   "execution_count": 11,
   "source": [
    "aeco.build_CTV(parameterset=p); #Calculate CTV results for all inputs with midpoint and endpoint results"
   ],
   "outputs": [],
   "metadata": {}
  },
  {
   "cell_type": "markdown",
   "source": [
    "# Export Results"
   ],
   "metadata": {}
  },
  {
   "cell_type": "code",
   "execution_count": 53,
   "source": [
    "aeco.save(output_path, LCI=False) #Export MP, EP, LCI and CTV result to NetCDF file."
   ],
   "outputs": [],
   "metadata": {}
  },
  {
   "cell_type": "code",
   "execution_count": 22,
   "source": [
    "#aeco.to_excel(output_path)"
   ],
   "outputs": [],
   "metadata": {}
  }
 ],
 "metadata": {
  "kernelspec": {
   "name": "python3710jvsc74a57bd06b320cd33fc5b9df07979245ffc2cd564f60ae521795a30d4c05a9f9319d68e7",
   "display_name": "Python 3.7.10 64-bit"
  },
  "language_info": {
   "codemirror_mode": {
    "name": "ipython",
    "version": 3
   },
   "file_extension": ".py",
   "mimetype": "text/x-python",
   "name": "python",
   "nbconvert_exporter": "python",
   "pygments_lexer": "ipython3",
   "version": "3.7.10"
  },
  "toc-autonumbering": true,
  "toc-showcode": false,
  "toc-showmarkdowntxt": false,
  "toc-showtags": false,
  "widgets": {
   "application/vnd.jupyter.widget-state+json": {
    "state": {},
    "version_major": 2,
    "version_minor": 0
   }
  }
 },
 "nbformat": 4,
 "nbformat_minor": 4
}