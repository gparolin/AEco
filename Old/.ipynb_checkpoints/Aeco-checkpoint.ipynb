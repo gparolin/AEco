{
 "cells": [
  {
   "cell_type": "markdown",
   "metadata": {
    "tags": [
     "text"
    ]
   },
   "source": [
    "# &AElig;co\n",
    "***Calc module***\n",
    "<br/><br/>\n",
    "\n",
    "✈️♻️\n",
    "\n",
    "This code is part of the Master's Thesis \"A Life Cycle Approach for Aircraft Ecodesign\", by Giácomo Parolin.\n",
    "This module is used to calculate Life-Cycle Inventories and Life-Cycle Impact Assessment results of aircraft concepts and export them to a `.xlsx` file."
   ]
  },
  {
   "cell_type": "markdown",
   "metadata": {
    "collapsed": "false",
    "jupyter": {
     "source_hidden": true
    }
   },
   "source": [
    "***Log***\n",
    "\n",
    "**April 06, 2020: &AElig;co 0.2**\n",
    "* Implementation with xarrays\n",
    "\n",
    "**December 23, 2019: &AElig;co, calc module**\n",
    "* Separates calculations from data visualization\n",
    "* Outputs results to .csv files\n",
    "\n",
    "**December 18, 2019: &AElig;co, gamma version**\n",
    "* Tidied up LCI results\n",
    "\n",
    "**December 08, 2019: &AElig;co, beta version**\n",
    "* Tidied up reading of Input and UP files\n",
    "* Implemented Sensitivity Analysis\n",
    "* Full translation to english\n",
    "\n",
    "**December 08, 2019: &AElig;co, alpha version**\n",
    "* Todos os UPs lastreados no ecoinvent3.6 consquential\n",
    "* Método atualizado com modificações propostas na qualificação\n",
    "\n",
    "\n",
    "**November 10, 2019: Monte Carlo Try-out**\n",
    "* Todos os inputs partem de um arquivo excel.\n",
    "* Inputs atrelados a funções de densidade de probabilidade\n",
    "\n",
    "**October 24, 2019: Code_Johanning_v2**\n",
    "* Troca de _numpy_ para _pandas_ para todos (ou maioria dos) os vetores e matrizes.\n",
    "* Leitura dos EF a partir de planilha excel."
   ]
  },
  {
   "cell_type": "markdown",
   "metadata": {
    "tags": [
     "text"
    ]
   },
   "source": [
    "# Initial Definitions"
   ]
  },
  {
   "cell_type": "markdown",
   "metadata": {
    "collapsed": "false"
   },
   "source": [
    "``Please enter the following information:``"
   ]
  },
  {
   "cell_type": "code",
   "execution_count": 1,
   "metadata": {},
   "outputs": [],
   "source": [
    "aircraft_type = 'pax'  #pax or cargo\n",
    "\n",
    "input_path = '.\\\\data\\\\A320_inputs.xlsx'\n",
    "input_sheet = 'A320'\n",
    "output_path = '.\\\\results\\\\'+ input_sheet + '_outputs.xlsx'\n",
    "database_path = '.\\\\data\\\\database_A320.xlsx'\n",
    "\n",
    "iterations = 2000"
   ]
  },
  {
   "cell_type": "markdown",
   "metadata": {
    "collapsed": "false",
    "tags": [
     "text"
    ]
   },
   "source": [
    "**Reference Unit**: Final results of midpoint and endpoint indicators are expressed in terms of *impact per pkm* or *impact per tkm*.\n",
    "\n",
    "**Uncertainty and Sensitivity Analysis**: Monte-Carlo Simulation is used. Input varies according to a Beta-PERT probability distribution, built from most-likely, maximum and minimum values."
   ]
  },
  {
   "cell_type": "markdown",
   "metadata": {
    "collapsed": "false"
   },
   "source": [
    "The unit process (UP) and characterization factor (CF) data used in the code are read from an excel file `database_A320.xlsx`. Most of the data was obtained from the [ecoinvent database](https://www.ecoinvent.org/)."
   ]
  },
  {
   "cell_type": "code",
   "execution_count": 2,
   "metadata": {
    "tags": [
     "definitions"
    ]
   },
   "outputs": [],
   "source": [
    "# packages\n",
    "\n",
    "import numpy as np\n",
    "import pandas as pd\n",
    "from scipy.stats import spearmanr as spear\n",
    "import warnings"
   ]
  },
  {
   "cell_type": "code",
   "execution_count": 2,
   "metadata": {
    "collapsed": true,
    "jupyter": {
     "outputs_hidden": true
    },
    "tags": [
     "definitions"
    ]
   },
   "outputs": [],
   "source": [
    "#functions\n",
    "def pert(row, it): \n",
    "    ''' Gera uma amostra de uma distribuição Beta-PERT\n",
    "    \n",
    "    nom : float\n",
    "        valor nominal da variável\n",
    "    pes: float\n",
    "        valor pessimista (mínimo) da variável\n",
    "    opt: float\n",
    "        valor otimista (máximo) da variável\n",
    "    sample: list\n",
    "        quantidade e formato dos valores amostrados (output)\n",
    "    '''\n",
    "    \n",
    "    sample = [1,it] #gerar array para sampling\n",
    "    \n",
    "    df = inputs.loc[[row]] #achar linha da variável em questão\n",
    "    \n",
    "    nom = df['nom'].iloc[0] #valor nominal\n",
    "    pes = df['pes'].iloc[0] #valor pessimista\n",
    "    opt = df['opt'].iloc[0] #valor otimista\n",
    "    \n",
    "    if pes == opt and pes == nom:\n",
    "        alpha = nom\n",
    "        beta = nom\n",
    "        mean = nom\n",
    "                \n",
    "    elif pes > nom or opt < nom:\n",
    "        raise ValueError(\"Valor 'nominal' deve ser igual ou estar entre 'pessimista' e 'otimista'\")\n",
    "    \n",
    "    else:\n",
    "        mean = (pes + 4*nom + opt)/6\n",
    "        alpha = 6*((mean - pes)/(opt - pes))\n",
    "        beta = 6*((opt - mean)/(opt - pes))\n",
    "\n",
    "    \n",
    "    sample_PERT = (np.random.beta(alpha, beta, sample) * (opt - pes)) + pes\n",
    "    return sample_PERT.ravel()\n",
    "\n",
    "\n",
    "def unitproc(col):\n",
    "    ''' Obtem um UP da database em forma de Series com Multi Index. Col é um string.\n",
    "    \n",
    "    '''\n",
    "    \n",
    "    Col = Unit_Processes[['compartment','subcompartment', col]]\n",
    "    Col.set_index(['compartment','subcompartment'], append=True, inplace=True)\n",
    "    #Col.sort_index(inplace=True)\n",
    "    Col = Col.squeeze()\n",
    "    #Col.index = Col.index.set_levels(Col.index.levels[1].str.lower(), level=1)\n",
    "    return Col.fillna(0)\n",
    "\n",
    "\n",
    "def mtp(series, array):\n",
    "    ''' Multiplica um pd.Series de UP por um array de PERT para gerar um pd.Series de LCI\n",
    "    \n",
    "    '''\n",
    "    \n",
    "    return series.apply(lambda x: x*array)\n",
    "\n",
    "def charact_factors(category):\n",
    "    ''' Retorna pd.Series de com os CF de uma category de impactos. Category é uma string.\n",
    "    \n",
    "    '''\n",
    "    series = MP.loc[category]\n",
    "    series.set_index(['name','compartment','subcompartment'], inplace=True)\n",
    "    return series.squeeze()\n",
    "\n",
    "def div(series, array):\n",
    "    ''' Divide um pd.Series de UP por um array de PERT para gerar um pd.Series de LCI\n",
    "    \n",
    "    '''\n",
    "    \n",
    "    return series.apply(lambda x: x/array)\n",
    "\n",
    "def avg(series):\n",
    "    ''' Calcula a média de cada linha de um pd.Series composto de np.arrays\n",
    "    \n",
    "    '''\n",
    "    \n",
    "    return series.apply(lambda x: np.mean(x))\n",
    "\n",
    "def electricity(E):\n",
    "    ''' Calcula o LCI de consumo de eletricidade com a grade brasileira\n",
    "    \n",
    "    '''\n",
    "    \n",
    "    E_wind = E * inp['grid_wind']\n",
    "    E_gas = E * inp['grid_gas']\n",
    "    E_hydro = E * inp['grid_hydro']\n",
    " \n",
    "    LCI_E = mtp(UP['Elec_wind'], E_wind) + mtp(UP['Elec_gas'], E_gas) \\\n",
    "            + mtp(UP['Elec_hydro'], E_hydro)\n",
    "    return LCI_E\n",
    "\n",
    "def database(series):\n",
    "    ''' Transforma um pd.Series de listas em um pd. DataFrame\n",
    "    \n",
    "    '''\n",
    "    \n",
    "    db = pd.DataFrame.from_records(zip(*series.values))\n",
    "    db.columns = series.index\n",
    "    return db"
   ]
  },
  {
   "cell_type": "code",
   "execution_count": 3,
   "metadata": {
    "collapsed": true,
    "jupyter": {
     "outputs_hidden": true
    },
    "scrolled": true,
    "tags": [
     "definitions"
    ]
   },
   "outputs": [],
   "source": [
    "#Leitura dos inputs da planilha inputs.xlsx\n",
    "with pd.ExcelFile(input_path) as xlsx:\n",
    "    inputs_full = pd.read_excel(xlsx, header = 2, index_col = 0, na_values=\"\", usecols=\"B:G\")\n",
    "    \n",
    "inputs_full = inputs_full.rename(columns = {\"nominal\": \"nom\", \n",
    "                                            \"low\":\"pes\", \n",
    "                                            \"high\":\"opt\"}) #renomear título das colunas\n",
    "\n",
    "inputs_unit = inputs_full[\"unit\"] #unidades dos inputs\n",
    "inputs_description = inputs_full[\"description\"] #descrição dos inputs\n",
    "\n",
    "inputs = inputs_full.drop(columns = {\"unit\", \"description\"}) #valores dos inputs\n",
    "\n",
    "inp = {}\n",
    "for variable in inputs.index:\n",
    "    inp[variable] = pert(variable, iterations)\n",
    "    \n",
    "pert_eye = np.linspace(1,1,iterations) #ones vector for monte carlo\n",
    "\n",
    "inputs_full = None\n",
    "inputs = None\n",
    "variable = None"
   ]
  },
  {
   "cell_type": "code",
   "execution_count": 4,
   "metadata": {
    "collapsed": true,
    "jupyter": {
     "outputs_hidden": true
    },
    "scrolled": true,
    "tags": [
     "definitions"
    ]
   },
   "outputs": [],
   "source": [
    "#Leitura dos UP e CF da planilha database.xlsx\n",
    "with pd.ExcelFile(database_path) as xlsx:\n",
    "    Unit_Processes = pd.read_excel(xlsx, 'UP', header = 5, index_col = 0, na_values=0)"
   ]
  },
  {
   "cell_type": "code",
   "execution_count": 5,
   "metadata": {
    "collapsed": true,
    "jupyter": {
     "outputs_hidden": true
    }
   },
   "outputs": [],
   "source": [
    "UP = {}\n",
    "for column in Unit_Processes.columns.values[3:]:\n",
    "    UP[column] = unitproc(column)\n",
    "\n",
    "Unit_Processes = None"
   ]
  },
  {
   "cell_type": "code",
   "execution_count": 6,
   "metadata": {
    "collapsed": true,
    "jupyter": {
     "outputs_hidden": true
    }
   },
   "outputs": [],
   "source": [
    "#Definição do inventário\n",
    "\n",
    "LCI_columns =  [['DEV','DEV','DEV','DEV','DEV','MFG','MFG','MFG','MFG','OP','OP','OP','OP','OP','EOL','EOL','EOL'],\\\n",
    "                ['Office','Prototype','Construction','Certification','Capital','Material','Factory','Logistics','Sustaining',\\\n",
    "                 'LTO','CCD','Maintenance','Airport','Fuel','Recycling','Landfill','Incineration']]\n",
    "LCI_index = UP['Aluminium'].index\n",
    "LCI = pd.DataFrame(index = LCI_index, columns = pd.MultiIndex.from_arrays(LCI_columns, names=['Phase', 'Subphase']))\n",
    "LCI_index = None\n",
    "LCI_columns = None"
   ]
  },
  {
   "cell_type": "code",
   "execution_count": 7,
   "metadata": {
    "collapsed": true,
    "jupyter": {
     "outputs_hidden": true
    }
   },
   "outputs": [],
   "source": [
    "#definições iniciais de pkm ou tkm\n",
    "\n",
    "if aircraft_type == \"cargo\":\n",
    "    pkm_flight = inp['payload'] * inp['d_f'] * inp['loadfactor'] #tkm por voo\n",
    "\n",
    "elif aircraft_type == \"pax\":\n",
    "    npax = inp['seat_max'] * inp['p_seat'] * inp['loadfactor'] #número de passageiros por voo\n",
    "    pkm_flight = npax * inp['d_f'] #pkm por voo\n",
    "\n",
    "else:\n",
    "    raise Exception(\"Aircraft type must be 'pax' or 'cargo'\")\n",
    "    \n",
    "    \n",
    "pkm_year = pkm_flight * inp['flights_year'] #pkm por ano\n",
    "pkm_life = pkm_year * inp['lifetime'] #pkm por vida\n",
    "pkm_fleet = pkm_life * inp['fleet'] #pkm da frota"
   ]
  },
  {
   "cell_type": "markdown",
   "metadata": {
    "collapsed": "true",
    "toc-hr-collapsed": true,
    "toc-nb-collapsed": true
   },
   "source": [
    "# LCI\n",
    "\n",
    "The aircraft's life cycle was divided into four parts:\n",
    "1. Development and Engineering\n",
    "2. Manufacturing and Assembly\n",
    "3. Operation\n",
    "4. End-of-Life"
   ]
  },
  {
   "cell_type": "markdown",
   "metadata": {
    "collapsed": "false"
   },
   "source": [
    "## Development"
   ]
  },
  {
   "cell_type": "markdown",
   "metadata": {
    "collapsed": "true"
   },
   "source": [
    "### Use of Office Buildings\n",
    "\n",
    "Impacts of the daily work of people developing the aircraft."
   ]
  },
  {
   "cell_type": "markdown",
   "metadata": {
    "collapsed": "false"
   },
   "source": [
    "#### Office building electricity consumption"
   ]
  },
  {
   "cell_type": "code",
   "execution_count": 8,
   "metadata": {
    "Collapsed": "false"
   },
   "outputs": [],
   "source": [
    "LCI_E_office = electricity(inp['E_office']) #per month\n",
    "LCI_E_office = mtp(LCI_E_office,inp['devmonths']) #per development"
   ]
  },
  {
   "cell_type": "markdown",
   "metadata": {
    "collapsed": "false"
   },
   "source": [
    "#### Office building water consumption"
   ]
  },
  {
   "cell_type": "code",
   "execution_count": 9,
   "metadata": {
    "Collapsed": "false"
   },
   "outputs": [],
   "source": [
    "LCI_water_office = mtp(UP['Water'],inp['water_office']) \\\n",
    "                    + mtp(UP['Wastewater'],inp['wastewater_office']) #per month\n",
    "LCI_water_office = mtp(LCI_water_office,inp['devmonths']) #per development"
   ]
  },
  {
   "cell_type": "markdown",
   "metadata": {
    "collapsed": "false"
   },
   "source": [
    "#### Commuting and Business Travel"
   ]
  },
  {
   "cell_type": "code",
   "execution_count": 10,
   "metadata": {
    "Collapsed": "false"
   },
   "outputs": [],
   "source": [
    "travel = 18470 / 12 * inp['developers'] * inp['devmonths'] #km\n",
    "\n",
    "LCI_travel = mtp(UP['Car'],travel * 0.1) + mtp(UP['Airplane'],travel * 0.9) #per development"
   ]
  },
  {
   "cell_type": "markdown",
   "metadata": {
    "collapsed": "false"
   },
   "source": [
    "#### Use of office supplies"
   ]
  },
  {
   "cell_type": "code",
   "execution_count": 11,
   "metadata": {
    "Collapsed": "false"
   },
   "outputs": [],
   "source": [
    "LCI_paper = mtp(UP['Paper'],(inp['developers'] * inp['paper_use'])) #per year\n",
    "LCI_paper = mtp(LCI_paper,(inp['devmonths']/12)) #per development"
   ]
  },
  {
   "cell_type": "markdown",
   "metadata": {
    "Collapsed": "false"
   },
   "source": [
    "Total LCI for \"Use of Office Building\":"
   ]
  },
  {
   "cell_type": "code",
   "execution_count": 12,
   "metadata": {
    "Collapsed": "false"
   },
   "outputs": [],
   "source": [
    "LCI['DEV','Office'] = div((LCI_E_office + LCI_water_office + LCI_paper + \\\n",
    "                          + LCI_travel),pkm_fleet)"
   ]
  },
  {
   "cell_type": "markdown",
   "metadata": {
    "collapsed": "true"
   },
   "source": [
    "### Prototype Manufacturing\n",
    "\n",
    "Impacts of manufacturing the prototype aircraft used during development.\n",
    "\n",
    "*Calculated only after running the [Manufacturing and Assembly section](#mfg).*"
   ]
  },
  {
   "cell_type": "markdown",
   "metadata": {
    "collapsed": "false"
   },
   "source": [
    "### Certification Campaign\n",
    "\n",
    "Impacts of the flight hours performed during development and certification.\n",
    "\n",
    "*Calculated only after running the [Operation: Flights section](#op).*"
   ]
  },
  {
   "cell_type": "markdown",
   "metadata": {
    "collapsed": "true"
   },
   "source": [
    "### OEM Infrastructure Preparation\n",
    "\n",
    "Impacts that may exists if new buildings must be built in order to manufacture the aircraft."
   ]
  },
  {
   "cell_type": "code",
   "execution_count": 13,
   "metadata": {
    "Collapsed": "false"
   },
   "outputs": [],
   "source": [
    "LCI['DEV','Construction'] = div(mtp(UP['Facilities'],inp['new_factory']/2.74e5),pkm_fleet)"
   ]
  },
  {
   "cell_type": "markdown",
   "metadata": {
    "collapsed": "true"
   },
   "source": [
    "### Capital goods manufacturing\n",
    "\n",
    "Impacts surrounding the acquisition of machines and jigs."
   ]
  },
  {
   "cell_type": "code",
   "execution_count": 14,
   "metadata": {
    "Collapsed": "false"
   },
   "outputs": [],
   "source": [
    "new_jigs = inp['OEW'] * 500 #50t of jigs per 100kg of product\n",
    "UP_capital = UP['Steel'].add(UP['Jigs'],fill_value=0) #material plus transformation\n",
    "\n",
    "LCI['DEV','Capital'] = div(mtp(UP_capital,new_jigs)+mtp(UP['Machine'],inp['new_machine'])\\\n",
    "                           ,pkm_fleet)"
   ]
  },
  {
   "cell_type": "markdown",
   "metadata": {
    "collapsed": "false",
    "toc-hr-collapsed": true,
    "toc-nb-collapsed": true
   },
   "source": [
    "## Manufacturing\n",
    "<a id='mfg'></a>"
   ]
  },
  {
   "cell_type": "markdown",
   "metadata": {
    "collapsed": "true",
    "toc-hr-collapsed": true
   },
   "source": [
    "### Material Extraction and Transformation\n",
    "\n",
    "Impacts surrounding the extraction and transformation of the raw materials that are used to manufacture the aircraft."
   ]
  },
  {
   "cell_type": "code",
   "execution_count": 15,
   "metadata": {
    "Collapsed": "false"
   },
   "outputs": [],
   "source": [
    "Al = inp['p_Al'] * inp['b2f_Al'] * inp['OEW']\n",
    "steel = inp['p_steel'] * inp['b2f_steel'] * inp['OEW']\n",
    "Ti = inp['p_Ti'] * inp['b2f_Ti'] * inp['OEW']\n",
    "inconel = inp['p_inconel'] * inp['b2f_inconel'] * inp['OEW']\n",
    "GFRP = inp['p_GFRP'] * inp['b2f_GFRP'] * inp['OEW']\n",
    "CFRP = inp['p_CFRP'] * inp['b2f_CFRP'] * inp['OEW']\n",
    "\n",
    "#Aluminium\n",
    "LCI_Al = mtp(UP['Aluminium'], Al)\n",
    "\n",
    "#Steel\n",
    "LCI_steel = mtp(UP['Steel'], steel)\n",
    "\n",
    "#Titanium\n",
    "LCI_Ti = mtp(UP['Titanium'], Ti)\n",
    "\n",
    "#Inconel\n",
    "LCI_inconel = mtp(UP['Inconel'], inconel)\n",
    "\n",
    "#GFRP\n",
    "LCI_GFRP = mtp(UP['GFRP'], GFRP)\n",
    "\n",
    "#CFRP\n",
    "LCI_CFRP = mtp(UP['CFRP'], CFRP)\n",
    "\n",
    "#LCI Material Extraction and Transformation\n",
    "LCI['MFG','Material'] = div(LCI_Al + LCI_steel + LCI_Ti + LCI_inconel + LCI_GFRP + LCI_CFRP,pkm_life)"
   ]
  },
  {
   "cell_type": "markdown",
   "metadata": {
    "collapsed": "true"
   },
   "source": [
    "### Use of Industrial Facilities\n",
    "\n",
    "Impacts of running a factory that manufactures aircraft."
   ]
  },
  {
   "cell_type": "markdown",
   "metadata": {
    "collapsed": "false"
   },
   "source": [
    "#### Electricity use of industrial facilities"
   ]
  },
  {
   "cell_type": "code",
   "execution_count": 16,
   "metadata": {
    "Collapsed": "false"
   },
   "outputs": [],
   "source": [
    "LCI_E_factory = electricity(inp['E_factory'])\n",
    "LCI_E_factory = mtp(LCI_E_factory,inp['takt']) / 30 #per aircraft"
   ]
  },
  {
   "cell_type": "markdown",
   "metadata": {
    "collapsed": "false"
   },
   "source": [
    "#### Water use of industrial facilities"
   ]
  },
  {
   "cell_type": "code",
   "execution_count": 17,
   "metadata": {
    "Collapsed": "false"
   },
   "outputs": [],
   "source": [
    "LCI_water_factory = (mtp(UP['Water'], inp['water_factory']) \\\n",
    "                     + mtp(UP['Wastewater'], inp['wastewater_factory'])) #per month\n",
    "LCI_water_factory = mtp(LCI_water_factory,inp['takt']) / 30 #per aircraft"
   ]
  },
  {
   "cell_type": "markdown",
   "metadata": {
    "collapsed": "false"
   },
   "source": [
    "#### Lubricating oils use"
   ]
  },
  {
   "cell_type": "code",
   "execution_count": 18,
   "metadata": {
    "Collapsed": "false"
   },
   "outputs": [],
   "source": [
    "LCI_lube = mtp(UP['Lubricant'], inp['lubricant']) #per month\n",
    "LCI_lube = mtp(LCI_lube,inp['takt']) / 30 #per aircraft"
   ]
  },
  {
   "cell_type": "markdown",
   "metadata": {
    "collapsed": "false"
   },
   "source": [
    "#### Industrial facilities maintenance"
   ]
  },
  {
   "cell_type": "code",
   "execution_count": 19,
   "metadata": {
    "Collapsed": "false"
   },
   "outputs": [],
   "source": [
    "facilities_maint = inp['OEW'] * 4.58e-10 #use per kg of product\n",
    "\n",
    "LCI_facilities_maint = mtp(UP['Facilities'], facilities_maint) * 0.02 #per year\n",
    "LCI_facilities_maint = mtp(LCI_facilities_maint,inp['takt']) / 365 #per aircraft"
   ]
  },
  {
   "cell_type": "markdown",
   "metadata": {
    "collapsed": "false"
   },
   "source": [
    "#### Total LCI for \"Use of Industrial Facilities\":"
   ]
  },
  {
   "cell_type": "code",
   "execution_count": 20,
   "metadata": {
    "Collapsed": "false"
   },
   "outputs": [],
   "source": [
    "LCI['MFG','Factory'] = div(LCI_E_factory + LCI_water_factory + LCI_lube + LCI_facilities_maint,pkm_life)"
   ]
  },
  {
   "cell_type": "markdown",
   "metadata": {
    "collapsed": "true"
   },
   "source": [
    "### Logistics\n",
    "\n",
    "Impacts of transporting parts and assemblies between productive sites."
   ]
  },
  {
   "cell_type": "code",
   "execution_count": 21,
   "metadata": {
    "Collapsed": "false"
   },
   "outputs": [],
   "source": [
    "lorry = inp['d_lorry'] * inp['m_lorry'] #tonne * km\n",
    "sea = inp['d_sea'] * inp['m_sea'] #tonne * km\n",
    "air = inp['d_air'] * inp['m_air'] #tonne * km\n",
    "\n",
    "LCI['MFG','Logistics'] = div(mtp(UP['Lorry'],lorry) + mtp(UP['Sea'],sea) + mtp(UP['Air'],air),pkm_life)"
   ]
  },
  {
   "cell_type": "markdown",
   "metadata": {
    "collapsed": "false"
   },
   "source": [
    "### Sustaining Engineering and Development\n",
    "\n",
    "Impacts of maintaining an engineering workforce during serial production."
   ]
  },
  {
   "cell_type": "code",
   "execution_count": 22,
   "metadata": {
    "collapsed": true,
    "jupyter": {
     "outputs_hidden": true
    }
   },
   "outputs": [],
   "source": [
    "LCI_sustaining = LCI['DEV','Office'] * 0.01 / 30 #per day\n",
    "LCI['MFG','Sustaining'] = div(mtp(LCI_sustaining,inp['takt']),pkm_life)"
   ]
  },
  {
   "cell_type": "markdown",
   "metadata": {
    "collapsed": "false",
    "toc-hr-collapsed": true,
    "toc-nb-collapsed": true
   },
   "source": [
    "## Operation\n",
    "<a id='op'></a>"
   ]
  },
  {
   "cell_type": "markdown",
   "metadata": {
    "collapsed": "false"
   },
   "source": [
    "### Flights  "
   ]
  },
  {
   "cell_type": "code",
   "execution_count": 9,
   "metadata": {
    "collapsed": true,
    "jupyter": {
     "outputs_hidden": true
    }
   },
   "outputs": [],
   "source": [
    "#tempo CCD\n",
    "t_ccd = (inp['FH']*60) - (inp['t_app'] + inp['t_to'] + inp['t_climb']) #min\n",
    "fuel_ccd = inp['ff_ccd'] * t_ccd*60 #kg\n",
    "\n",
    "LCI['OP','LTO'] = div(UP['LTO'],pkm_flight)\n",
    "LCI['OP','CCD'] = div(mtp(UP['CCD'],fuel_ccd),pkm_flight)"
   ]
  },
  {
   "cell_type": "markdown",
   "metadata": {
    "collapsed": "false"
   },
   "source": [
    "### Aircraft Maintenance"
   ]
  },
  {
   "cell_type": "code",
   "execution_count": 24,
   "metadata": {
    "collapsed": true,
    "jupyter": {
     "outputs_hidden": true
    }
   },
   "outputs": [],
   "source": [
    "LCI_maint = mtp(UP['Aluminium'], inp['maint_Al']) + mtp(UP['Steel'],inp['maint_steel']) + \\\n",
    "            mtp(UP['Polymer'],inp['maint_pol']) + mtp(UP['Battery'],inp['maint_battery']) #por ano\n",
    "\n",
    "LCI['OP','Maintenance'] = div(div(LCI_maint,inp['flights_year']),pkm_flight)"
   ]
  },
  {
   "cell_type": "markdown",
   "metadata": {
    "collapsed": "false"
   },
   "source": [
    "### Airport Infrastructure\n",
    "\n",
    "Impacts of building, operating and maintaining the airport and its surrounding infrastructure."
   ]
  },
  {
   "cell_type": "code",
   "execution_count": 25,
   "metadata": {
    "collapsed": true,
    "jupyter": {
     "outputs_hidden": true
    }
   },
   "outputs": [],
   "source": [
    "if aircraft_type == \"cargo\":\n",
    "    ap_impact = 0.132 #13,2% of airport impacts are due to cargo\n",
    "elif aircraft_type == \"pax\":\n",
    "    ap_impact = 0.868\n",
    "else:\n",
    "    ap_impact = 1\n",
    "\n",
    "f_pax_ap = inp['pax_ap']/22500000 #fração de passageiros em relação ao aeroporto de zurich em 2000\n",
    "#f_flights = pert('flights_year').mean() / pert('flights_ap').mean() # fração de voos da aeronave em relação ao aeroporto   \n",
    "\n",
    "#LCI_E_ap = electricity(inp['E_ap'])\n",
    "\n",
    "#LCI_ap = div(mtp(UP['Heat'],inp['heat_ap']) + mtp(UP['Water'],inp['water_ap']) \\\n",
    "#             + mtp(UP['Wastewater'],inp['wastewater_ap']) + LCI_E_ap, inp['flights_ap'])\n",
    "\n",
    "LCI_ap = div(mtp(UP['Airport'],f_pax_ap/100), inp['flights_ap']) #100 anos de vida para o prédio\n",
    "\n",
    "LCI['OP','Airport'] = div(mtp(LCI_ap,ap_impact),pkm_flight)"
   ]
  },
  {
   "cell_type": "markdown",
   "metadata": {
    "collapsed": "false"
   },
   "source": [
    "### Fuel production"
   ]
  },
  {
   "cell_type": "code",
   "execution_count": 26,
   "metadata": {
    "collapsed": true,
    "jupyter": {
     "outputs_hidden": true
    }
   },
   "outputs": [],
   "source": [
    "fuel_lto = inp['t_app']*60*inp['ff_app'] + inp['t_idle']*60*inp['ff_idle'] \\\n",
    "            + inp['t_to']*60*inp['ff_to'] + inp['t_climb']*60*inp['ff_climb']\n",
    "LCI['OP','Fuel']= div(mtp(UP['Kerosene'],fuel_ccd+fuel_lto),pkm_flight)"
   ]
  },
  {
   "cell_type": "markdown",
   "metadata": {
    "collapsed": "false",
    "toc-hr-collapsed": true,
    "toc-nb-collapsed": true
   },
   "source": [
    "## End-of-Life"
   ]
  },
  {
   "cell_type": "code",
   "execution_count": 27,
   "metadata": {
    "collapsed": true,
    "jupyter": {
     "outputs_hidden": true
    }
   },
   "outputs": [],
   "source": [
    "E_sort_constant = 0.4645/3.6 #kWh/kg of material, on average\n",
    "E_sort = E_sort_constant * inp['OEW']\n",
    "LCI_sort = electricity(E_sort)\n",
    "\n",
    "\n",
    "#Aluminium\n",
    "p_ldf_Al = inp['p_ldf_Al'] * Al\n",
    "LCI_ldf_Al = mtp(UP['Landfill'],p_ldf_Al)\n",
    "p_incin_Al = inp['p_incin_Al'] * Al\n",
    "LCI_incin_Al = mtp(UP['Incineration'],p_incin_Al)\n",
    "p_recycl_Al = inp['p_recycl_Al'] * Al\n",
    "LCI_recycl_Al = mtp(UP['Aluminium'],p_recycl_Al)\n",
    "\n",
    "#Steel\n",
    "p_ldf_steel = inp['p_ldf_steel'] * steel\n",
    "LCI_ldf_steel = mtp(UP['Landfill'],p_ldf_steel)\n",
    "p_incin_steel = inp['p_incin_steel'] * steel\n",
    "LCI_incin_steel = mtp(UP['Incineration'],p_incin_steel)\n",
    "p_recycl_steel = inp['p_recycl_steel'] * steel\n",
    "LCI_recycl_steel = mtp(UP['Steel'],p_recycl_steel)\n",
    "\n",
    "#Titanium\n",
    "p_ldf_Ti = inp['p_ldf_Ti'] * Ti\n",
    "LCI_ldf_Ti = mtp(UP['Landfill'],p_ldf_Ti)\n",
    "p_incin_Ti = inp['p_incin_Ti'] * Ti\n",
    "LCI_incin_Ti = mtp(UP['Incineration'],p_incin_Ti)\n",
    "p_recycl_Ti = inp['p_recycl_Ti'] * Ti\n",
    "LCI_recycl_Ti = mtp(UP['Titanium'],p_recycl_Ti)\n",
    "\n",
    "#Inconel\n",
    "p_ldf_inconel = inp['p_ldf_inconel'] * inconel\n",
    "LCI_ldf_inconel = mtp(UP['Landfill'],p_ldf_inconel)\n",
    "p_incin_inconel = inp['p_incin_inconel'] * inconel\n",
    "LCI_incin_inconel = mtp(UP['Incineration'],p_incin_inconel)\n",
    "p_recycl_inconel = inp['p_recycl_inconel'] * inconel\n",
    "LCI_recycl_inconel = mtp(UP['Inconel'],p_recycl_inconel)\n",
    "\n",
    "#GFRP\n",
    "p_ldf_GFRP = inp['p_ldf_GFRP'] * GFRP\n",
    "LCI_ldf_GFRP = mtp(UP['Landfill'],p_ldf_GFRP)\n",
    "p_incin_GFRP = inp['p_incin_GFRP'] * GFRP\n",
    "LCI_incin_GFRP = mtp(UP['Incineration'],p_incin_GFRP)\n",
    "p_recycl_GFRP = inp['p_recycl_GFRP'] * GFRP\n",
    "LCI_recycl_GFRP = mtp(UP['GFRP'],p_recycl_GFRP)\n",
    "\n",
    "#CFRP\n",
    "p_ldf_CFRP = inp['p_ldf_CFRP'] * CFRP\n",
    "LCI_ldf_CFRP = mtp(UP['Landfill'],p_ldf_CFRP)\n",
    "p_incin_CFRP = inp['p_incin_CFRP'] * CFRP\n",
    "LCI_incin_CFRP = mtp(UP['Incineration'],p_incin_CFRP)\n",
    "p_recycl_CFRP = inp['p_recycl_CFRP'] * CFRP\n",
    "LCI_recycl_CFRP = mtp(UP['CFRP'],p_recycl_CFRP)\n",
    "\n",
    "\n",
    "LCI['EOL','Recycling'] = div(LCI_sort - (LCI_recycl_Al + LCI_recycl_Ti + LCI_recycl_steel \\\n",
    "                         + LCI_recycl_inconel + LCI_recycl_GFRP + LCI_recycl_CFRP),pkm_life)\n",
    "LCI['EOL','Incineration'] = div(LCI_incin_Al + LCI_incin_Ti + LCI_incin_steel +\\\n",
    "                                LCI_incin_inconel + LCI_incin_GFRP + LCI_incin_CFRP, pkm_life)\n",
    "LCI['EOL', 'Landfill'] = div(LCI_ldf_Al + LCI_ldf_Ti + LCI_ldf_steel + LCI_ldf_inconel \\\n",
    "                             + LCI_ldf_GFRP + LCI_ldf_CFRP, pkm_life)"
   ]
  },
  {
   "cell_type": "markdown",
   "metadata": {
    "collapsed": "false",
    "toc-hr-collapsed": true,
    "toc-nb-collapsed": true
   },
   "source": [
    "## LCI Summary"
   ]
  },
  {
   "cell_type": "code",
   "execution_count": 28,
   "metadata": {
    "collapsed": true,
    "jupyter": {
     "outputs_hidden": true
    }
   },
   "outputs": [],
   "source": [
    "#pending calculations from development section:\n",
    "LCI['DEV','Prototype'] = div(mtp(LCI['MFG'].sum(axis=1),inp['prototypes']) + \\\n",
    "                             mtp(LCI['MFG'].sum(axis=1),(inp['ironbirds']*0.3)),pkm_fleet)\n",
    "\n",
    "cert_flights = inp['test_FH'] / inp['FH']\n",
    "LCI['DEV','Certification'] = div(mtp(LCI['OP','LTO'] + LCI['OP','CCD'],cert_flights),pkm_fleet) #per development"
   ]
  },
  {
   "cell_type": "markdown",
   "metadata": {
    "toc-hr-collapsed": true,
    "toc-nb-collapsed": true
   },
   "source": [
    "# LCIA\n",
    "\n",
    "The LCIA method used here is the ReCiPe 2008."
   ]
  },
  {
   "cell_type": "code",
   "execution_count": 29,
   "metadata": {
    "collapsed": true,
    "jupyter": {
     "outputs_hidden": true
    }
   },
   "outputs": [],
   "source": [
    "with pd.ExcelFile(database_path) as xlsx:\n",
    "    MP = pd.read_excel(xlsx, 'MP', header = 0, index_col = 0, na_values=0)\n",
    "    EP = pd.read_excel(xlsx, 'EP', header = 0, index_col = 0, na_values=0)"
   ]
  },
  {
   "cell_type": "markdown",
   "metadata": {
    "collapsed": "false",
    "toc-hr-collapsed": true,
    "toc-nb-collapsed": true
   },
   "source": [
    "## Midpoint\n",
    "\n",
    "The midpoint impact categories are:"
   ]
  },
  {
   "cell_type": "code",
   "execution_count": 30,
   "metadata": {
    "collapsed": true,
    "jupyter": {
     "outputs_hidden": true
    }
   },
   "outputs": [
    {
     "data": {
      "text/plain": [
       "Index(['freshwater ecotoxicity', 'human toxicity', 'marine ecotoxicity',\n",
       "       'terrestrial ecotoxicity', 'metal depletion',\n",
       "       'agricultural land occupation', 'climate change', 'fossil depletion',\n",
       "       'freshwater eutrophication', 'ionising radiation',\n",
       "       'marine eutrophication', 'natural land transformation',\n",
       "       'ozone depletion', 'particulate matter formation',\n",
       "       'photochemical oxidant formation', 'terrestrial acidification',\n",
       "       'urban land occupation', 'water depletion'],\n",
       "      dtype='object', name='category')"
      ]
     },
     "execution_count": 30,
     "metadata": {},
     "output_type": "execute_result"
    }
   ],
   "source": [
    "mp_categories = MP.index.unique()\n",
    "mp_categories"
   ]
  },
  {
   "cell_type": "markdown",
   "metadata": {
    "collapsed": "false"
   },
   "source": [
    "\n",
    "The conversion factors used to transform the LCI into LCIA results are:"
   ]
  },
  {
   "cell_type": "code",
   "execution_count": 31,
   "metadata": {
    "collapsed": true,
    "jupyter": {
     "outputs_hidden": true
    }
   },
   "outputs": [],
   "source": [
    "mp_factors = pd.DataFrame(index = LCI.index)\n",
    "for category in mp_categories:\n",
    "    category_factor = charact_factors(category)\n",
    "    category_factor = category_factor.rename(category)\n",
    "    mp_factors[category] = category_factor\n",
    "mp_factors.fillna(0, inplace=True)\n",
    "\n",
    "MP = None"
   ]
  },
  {
   "cell_type": "markdown",
   "metadata": {
    "collapsed": "false"
   },
   "source": [
    "<br></br>\n",
    "**LCIA midpoint results:**"
   ]
  },
  {
   "cell_type": "code",
   "execution_count": 32,
   "metadata": {
    "collapsed": true,
    "jupyter": {
     "outputs_hidden": true
    }
   },
   "outputs": [],
   "source": [
    "LCIA_MP = pd.DataFrame(columns=LCI.columns)\n",
    "\n",
    "for column in LCI:\n",
    "    LCIA_MP[column] = mp_factors.mul(LCI[column], axis=0).sum()"
   ]
  },
  {
   "cell_type": "code",
   "execution_count": 33,
   "metadata": {
    "collapsed": true,
    "jupyter": {
     "outputs_hidden": true
    }
   },
   "outputs": [],
   "source": [
    "#correction of the natural land transformation values\n",
    "LCIA_MP.loc['natural land transformation'] = -LCIA_MP.loc['natural land transformation']"
   ]
  },
  {
   "cell_type": "markdown",
   "metadata": {
    "collapsed": "false",
    "toc-hr-collapsed": true,
    "toc-nb-collapsed": true
   },
   "source": [
    "## Endpoint\n",
    "\n",
    "The endpoint impact categories are:\n",
    "\n",
    "* Damage to Human Health\n",
    "* Damage to Ecosystem Diversity\n",
    "* Damage to Resource Availability"
   ]
  },
  {
   "cell_type": "markdown",
   "metadata": {
    "collapsed": "false"
   },
   "source": [
    "<br></br>\n",
    "The conversion factors used to transform the midpoint into endpoint results are:"
   ]
  },
  {
   "cell_type": "code",
   "execution_count": 34,
   "metadata": {
    "collapsed": true,
    "jupyter": {
     "outputs_hidden": true
    }
   },
   "outputs": [],
   "source": [
    "ep_factors = EP.fillna(0)\n",
    "\n",
    "LCIA_EP = pd.DataFrame(columns=LCIA_MP.columns, index=ep_factors.columns)\n",
    "\n",
    "for column in LCIA_EP:\n",
    "    LCIA_EP[column] = ep_factors.mul(LCIA_MP[column], axis=0).sum()"
   ]
  },
  {
   "cell_type": "markdown",
   "metadata": {
    "collapsed": "false"
   },
   "source": [
    "## Contribution to Variance\n",
    "\n",
    "CTV of inputs with midpoint results:"
   ]
  },
  {
   "cell_type": "code",
   "execution_count": 35,
   "metadata": {
    "collapsed": true,
    "jupyter": {
     "outputs_hidden": true
    },
    "scrolled": true
   },
   "outputs": [],
   "source": [
    "with warnings.catch_warnings():\n",
    "    warnings.filterwarnings(\"ignore\")\n",
    "\n",
    "    corr = pd.DataFrame(index=inp.keys(), columns=LCIA_MP.index)\n",
    "    for row in corr.index:\n",
    "        for column in corr:\n",
    "            corr[column][row] = spear(inp[row],LCIA_MP.loc[column].sum())[1]\n",
    "\n",
    "\n",
    "    corr_sq = corr ** 2\n",
    "    corr_sq_sum = corr_sq.sum(axis=0)\n",
    "\n",
    "    CTV_MP = pd.DataFrame(index=inp.keys(), columns=LCIA_MP.index)\n",
    "    CTV_MP = corr_sq / corr_sq_sum"
   ]
  },
  {
   "cell_type": "markdown",
   "metadata": {
    "collapsed": "false"
   },
   "source": [
    "CTV of inputs with endpoint results:"
   ]
  },
  {
   "cell_type": "code",
   "execution_count": 36,
   "metadata": {
    "collapsed": true,
    "jupyter": {
     "outputs_hidden": true
    },
    "scrolled": true
   },
   "outputs": [],
   "source": [
    "with warnings.catch_warnings():\n",
    "    warnings.filterwarnings(\"ignore\")\n",
    "    \n",
    "    corr = pd.DataFrame(index=inp.keys(), columns=LCIA_EP.index)\n",
    "    for row in corr.index:\n",
    "        for column in corr:\n",
    "            corr[column][row] = spear(inp[row],LCIA_EP.loc[column].sum())[1]\n",
    "\n",
    "\n",
    "    corr_sq = corr ** 2\n",
    "    corr_sq_sum = corr_sq.sum(axis=0)\n",
    "\n",
    "    CTV_EP = pd.DataFrame(index=inp.keys(), columns=LCIA_EP.index)\n",
    "    CTV_EP = corr_sq / corr_sq_sum"
   ]
  },
  {
   "cell_type": "markdown",
   "metadata": {
    "toc-hr-collapsed": true,
    "toc-nb-collapsed": true
   },
   "source": [
    "# Export Results"
   ]
  },
  {
   "cell_type": "code",
   "execution_count": 37,
   "metadata": {
    "collapsed": true,
    "jupyter": {
     "outputs_hidden": true
    }
   },
   "outputs": [],
   "source": [
    "float_formatter = \"{:.8e}\".format\n",
    "np.set_printoptions(threshold=iterations, linewidth = 100, formatter={'float_kind':float_formatter})"
   ]
  },
  {
   "cell_type": "code",
   "execution_count": 38,
   "metadata": {
    "collapsed": true,
    "jupyter": {
     "outputs_hidden": true
    }
   },
   "outputs": [
    {
     "name": "stdout",
     "output_type": "stream",
     "text": [
      "LCA complete! Check output file at .\\results\\A320_one_outputs.xlsx\n"
     ]
    }
   ],
   "source": [
    "with pd.ExcelWriter(output_path) as writer:\n",
    "    LCIA_MP.to_excel(writer, sheet_name='MP')\n",
    "    LCIA_EP.to_excel(writer, sheet_name='EP')\n",
    "    CTV_MP.to_excel(writer, sheet_name='CTV_MP')\n",
    "    CTV_EP.to_excel(writer, sheet_name='CTV_EP')\n",
    "    \n",
    "print(f\"LCA complete! Check output file at {output_path}\")"
   ]
  }
 ],
 "metadata": {
  "kernelspec": {
   "display_name": "Python 3",
   "language": "python",
   "name": "python3"
  },
  "language_info": {
   "codemirror_mode": {
    "name": "ipython",
    "version": 3
   },
   "file_extension": ".py",
   "mimetype": "text/x-python",
   "name": "python",
   "nbconvert_exporter": "python",
   "pygments_lexer": "ipython3",
   "version": "3.8.2"
  },
  "toc-autonumbering": true,
  "toc-showcode": false,
  "toc-showmarkdowntxt": false,
  "toc-showtags": false,
  "widgets": {
   "application/vnd.jupyter.widget-state+json": {
    "state": {},
    "version_major": 2,
    "version_minor": 0
   }
  }
 },
 "nbformat": 4,
 "nbformat_minor": 4
}
